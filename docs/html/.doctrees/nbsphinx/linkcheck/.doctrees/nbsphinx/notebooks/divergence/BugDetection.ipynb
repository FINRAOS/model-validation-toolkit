{
 "cells": [
  {
   "cell_type": "markdown",
   "metadata": {},
   "source": [
    "# Dataset Bug Detection\n",
    "\n",
    "In this example, we will demonstrate how to detect bugs in a data set using the public Airlines data set."
   ]
  },
  {
   "cell_type": "code",
   "execution_count": null,
   "metadata": {},
   "outputs": [],
   "source": [
    "# Since we use the category_encoders library to perform binary encoding on some of the features in this demo, \n",
    "# we'll need to install it.\n",
    "!pip install category_encoders"
   ]
  },
  {
   "cell_type": "code",
   "execution_count": 1,
   "metadata": {
    "scrolled": true
   },
   "outputs": [
    {
     "data": {
      "text/html": [
       "<div>\n",
       "<style scoped>\n",
       "    .dataframe tbody tr th:only-of-type {\n",
       "        vertical-align: middle;\n",
       "    }\n",
       "\n",
       "    .dataframe tbody tr th {\n",
       "        vertical-align: top;\n",
       "    }\n",
       "\n",
       "    .dataframe thead th {\n",
       "        text-align: right;\n",
       "    }\n",
       "</style>\n",
       "<table border=\"1\" class=\"dataframe\">\n",
       "  <thead>\n",
       "    <tr style=\"text-align: right;\">\n",
       "      <th></th>\n",
       "      <th>year</th>\n",
       "      <th>month</th>\n",
       "      <th>day</th>\n",
       "      <th>dep_time</th>\n",
       "      <th>sched_dep_time</th>\n",
       "      <th>dep_delay</th>\n",
       "      <th>arr_time</th>\n",
       "      <th>sched_arr_time</th>\n",
       "      <th>arr_delay</th>\n",
       "      <th>carrier</th>\n",
       "      <th>...</th>\n",
       "      <th>dest</th>\n",
       "      <th>air_time</th>\n",
       "      <th>distance</th>\n",
       "      <th>hour</th>\n",
       "      <th>minute</th>\n",
       "      <th>time_hour</th>\n",
       "      <th>date</th>\n",
       "      <th>day_index</th>\n",
       "      <th>DayOfWeek</th>\n",
       "      <th>Month</th>\n",
       "    </tr>\n",
       "  </thead>\n",
       "  <tbody>\n",
       "    <tr>\n",
       "      <th>0</th>\n",
       "      <td>2013</td>\n",
       "      <td>1</td>\n",
       "      <td>1</td>\n",
       "      <td>517.0</td>\n",
       "      <td>515</td>\n",
       "      <td>2.0</td>\n",
       "      <td>830.0</td>\n",
       "      <td>819</td>\n",
       "      <td>11.0</td>\n",
       "      <td>UA</td>\n",
       "      <td>...</td>\n",
       "      <td>IAH</td>\n",
       "      <td>227.0</td>\n",
       "      <td>1400</td>\n",
       "      <td>5</td>\n",
       "      <td>15</td>\n",
       "      <td>1/1/2013 5:00</td>\n",
       "      <td>2013-01-01</td>\n",
       "      <td>0</td>\n",
       "      <td>Tuesday</td>\n",
       "      <td>January</td>\n",
       "    </tr>\n",
       "    <tr>\n",
       "      <th>1</th>\n",
       "      <td>2013</td>\n",
       "      <td>1</td>\n",
       "      <td>1</td>\n",
       "      <td>533.0</td>\n",
       "      <td>529</td>\n",
       "      <td>4.0</td>\n",
       "      <td>850.0</td>\n",
       "      <td>830</td>\n",
       "      <td>20.0</td>\n",
       "      <td>UA</td>\n",
       "      <td>...</td>\n",
       "      <td>IAH</td>\n",
       "      <td>227.0</td>\n",
       "      <td>1416</td>\n",
       "      <td>5</td>\n",
       "      <td>29</td>\n",
       "      <td>1/1/2013 5:00</td>\n",
       "      <td>2013-01-01</td>\n",
       "      <td>0</td>\n",
       "      <td>Tuesday</td>\n",
       "      <td>January</td>\n",
       "    </tr>\n",
       "    <tr>\n",
       "      <th>...</th>\n",
       "      <td>...</td>\n",
       "      <td>...</td>\n",
       "      <td>...</td>\n",
       "      <td>...</td>\n",
       "      <td>...</td>\n",
       "      <td>...</td>\n",
       "      <td>...</td>\n",
       "      <td>...</td>\n",
       "      <td>...</td>\n",
       "      <td>...</td>\n",
       "      <td>...</td>\n",
       "      <td>...</td>\n",
       "      <td>...</td>\n",
       "      <td>...</td>\n",
       "      <td>...</td>\n",
       "      <td>...</td>\n",
       "      <td>...</td>\n",
       "      <td>...</td>\n",
       "      <td>...</td>\n",
       "      <td>...</td>\n",
       "      <td>...</td>\n",
       "    </tr>\n",
       "    <tr>\n",
       "      <th>336774</th>\n",
       "      <td>2013</td>\n",
       "      <td>9</td>\n",
       "      <td>30</td>\n",
       "      <td>NaN</td>\n",
       "      <td>1159</td>\n",
       "      <td>NaN</td>\n",
       "      <td>NaN</td>\n",
       "      <td>1344</td>\n",
       "      <td>NaN</td>\n",
       "      <td>MQ</td>\n",
       "      <td>...</td>\n",
       "      <td>CLE</td>\n",
       "      <td>NaN</td>\n",
       "      <td>419</td>\n",
       "      <td>11</td>\n",
       "      <td>59</td>\n",
       "      <td>30-09-2013 11:00</td>\n",
       "      <td>2013-09-30</td>\n",
       "      <td>272</td>\n",
       "      <td>Monday</td>\n",
       "      <td>September</td>\n",
       "    </tr>\n",
       "    <tr>\n",
       "      <th>336775</th>\n",
       "      <td>2013</td>\n",
       "      <td>9</td>\n",
       "      <td>30</td>\n",
       "      <td>NaN</td>\n",
       "      <td>840</td>\n",
       "      <td>NaN</td>\n",
       "      <td>NaN</td>\n",
       "      <td>1020</td>\n",
       "      <td>NaN</td>\n",
       "      <td>MQ</td>\n",
       "      <td>...</td>\n",
       "      <td>RDU</td>\n",
       "      <td>NaN</td>\n",
       "      <td>431</td>\n",
       "      <td>8</td>\n",
       "      <td>40</td>\n",
       "      <td>30-09-2013 08:00</td>\n",
       "      <td>2013-09-30</td>\n",
       "      <td>272</td>\n",
       "      <td>Monday</td>\n",
       "      <td>September</td>\n",
       "    </tr>\n",
       "  </tbody>\n",
       "</table>\n",
       "<p>336776 rows × 23 columns</p>\n",
       "</div>"
      ],
      "text/plain": [
       "        year  month  day  dep_time  sched_dep_time  dep_delay  arr_time  \\\n",
       "0       2013      1    1     517.0             515        2.0     830.0   \n",
       "1       2013      1    1     533.0             529        4.0     850.0   \n",
       "...      ...    ...  ...       ...             ...        ...       ...   \n",
       "336774  2013      9   30       NaN            1159        NaN       NaN   \n",
       "336775  2013      9   30       NaN             840        NaN       NaN   \n",
       "\n",
       "        sched_arr_time  arr_delay carrier  ...  dest air_time distance hour  \\\n",
       "0                  819       11.0      UA  ...   IAH    227.0     1400    5   \n",
       "1                  830       20.0      UA  ...   IAH    227.0     1416    5   \n",
       "...                ...        ...     ...  ...   ...      ...      ...  ...   \n",
       "336774            1344        NaN      MQ  ...   CLE      NaN      419   11   \n",
       "336775            1020        NaN      MQ  ...   RDU      NaN      431    8   \n",
       "\n",
       "        minute         time_hour       date  day_index DayOfWeek      Month  \n",
       "0           15     1/1/2013 5:00 2013-01-01          0   Tuesday    January  \n",
       "1           29     1/1/2013 5:00 2013-01-01          0   Tuesday    January  \n",
       "...        ...               ...        ...        ...       ...        ...  \n",
       "336774      59  30-09-2013 11:00 2013-09-30        272    Monday  September  \n",
       "336775      40  30-09-2013 08:00 2013-09-30        272    Monday  September  \n",
       "\n",
       "[336776 rows x 23 columns]"
      ]
     },
     "execution_count": 1,
     "metadata": {},
     "output_type": "execute_result"
    }
   ],
   "source": [
    "import pandas\n",
    "pandas.options.display.max_rows=5 # restrict to 5 rows on display\n",
    "\n",
    "df = pandas.read_csv(\"https://raw.githubusercontent.com/Devvrat53/Flight-Delay-Prediction/master/Data/flight_data.csv\")\n",
    "df['date'] = pandas.to_datetime(df[['year', 'month', 'day']])\n",
    "df['day_index'] = (df['date'] - df['date'].min()).dt.days\n",
    "df['DayOfWeek'] = df['date'].dt.day_name()\n",
    "df['Month'] = df['date'].dt.month_name()\n",
    "df"
   ]
  },
  {
   "cell_type": "markdown",
   "metadata": {},
   "source": [
    "## Prepare daily data\n",
    "\n",
    "Let's assume that we run new data each day through our model. For simplicity we will just look at the last 10 days of data."
   ]
  },
  {
   "cell_type": "code",
   "execution_count": 2,
   "metadata": {},
   "outputs": [],
   "source": [
    "df_daily = df[df['month'] > 11]"
   ]
  },
  {
   "cell_type": "code",
   "execution_count": 3,
   "metadata": {},
   "outputs": [],
   "source": [
    "df_daily = df_daily[df_daily['day'] > 20]"
   ]
  },
  {
   "cell_type": "code",
   "execution_count": 4,
   "metadata": {},
   "outputs": [
    {
     "data": {
      "text/html": [
       "<div>\n",
       "<style scoped>\n",
       "    .dataframe tbody tr th:only-of-type {\n",
       "        vertical-align: middle;\n",
       "    }\n",
       "\n",
       "    .dataframe tbody tr th {\n",
       "        vertical-align: top;\n",
       "    }\n",
       "\n",
       "    .dataframe thead th {\n",
       "        text-align: right;\n",
       "    }\n",
       "</style>\n",
       "<table border=\"1\" class=\"dataframe\">\n",
       "  <thead>\n",
       "    <tr style=\"text-align: right;\">\n",
       "      <th></th>\n",
       "      <th>year</th>\n",
       "      <th>month</th>\n",
       "      <th>day</th>\n",
       "      <th>dep_time</th>\n",
       "      <th>sched_dep_time</th>\n",
       "      <th>dep_delay</th>\n",
       "      <th>arr_time</th>\n",
       "      <th>sched_arr_time</th>\n",
       "      <th>arr_delay</th>\n",
       "      <th>carrier</th>\n",
       "      <th>...</th>\n",
       "      <th>dest</th>\n",
       "      <th>air_time</th>\n",
       "      <th>distance</th>\n",
       "      <th>hour</th>\n",
       "      <th>minute</th>\n",
       "      <th>time_hour</th>\n",
       "      <th>date</th>\n",
       "      <th>day_index</th>\n",
       "      <th>DayOfWeek</th>\n",
       "      <th>Month</th>\n",
       "    </tr>\n",
       "  </thead>\n",
       "  <tbody>\n",
       "    <tr>\n",
       "      <th>101780</th>\n",
       "      <td>2013</td>\n",
       "      <td>12</td>\n",
       "      <td>21</td>\n",
       "      <td>2.0</td>\n",
       "      <td>2359</td>\n",
       "      <td>3.0</td>\n",
       "      <td>445.0</td>\n",
       "      <td>445</td>\n",
       "      <td>0.0</td>\n",
       "      <td>B6</td>\n",
       "      <td>...</td>\n",
       "      <td>PSE</td>\n",
       "      <td>206.0</td>\n",
       "      <td>1617</td>\n",
       "      <td>23</td>\n",
       "      <td>59</td>\n",
       "      <td>21-12-2013 23:00</td>\n",
       "      <td>2013-12-21</td>\n",
       "      <td>354</td>\n",
       "      <td>Saturday</td>\n",
       "      <td>December</td>\n",
       "    </tr>\n",
       "    <tr>\n",
       "      <th>101781</th>\n",
       "      <td>2013</td>\n",
       "      <td>12</td>\n",
       "      <td>21</td>\n",
       "      <td>29.0</td>\n",
       "      <td>2040</td>\n",
       "      <td>229.0</td>\n",
       "      <td>138.0</td>\n",
       "      <td>2220</td>\n",
       "      <td>198.0</td>\n",
       "      <td>WN</td>\n",
       "      <td>...</td>\n",
       "      <td>MDW</td>\n",
       "      <td>117.0</td>\n",
       "      <td>725</td>\n",
       "      <td>20</td>\n",
       "      <td>40</td>\n",
       "      <td>21-12-2013 20:00</td>\n",
       "      <td>2013-12-21</td>\n",
       "      <td>354</td>\n",
       "      <td>Saturday</td>\n",
       "      <td>December</td>\n",
       "    </tr>\n",
       "    <tr>\n",
       "      <th>...</th>\n",
       "      <td>...</td>\n",
       "      <td>...</td>\n",
       "      <td>...</td>\n",
       "      <td>...</td>\n",
       "      <td>...</td>\n",
       "      <td>...</td>\n",
       "      <td>...</td>\n",
       "      <td>...</td>\n",
       "      <td>...</td>\n",
       "      <td>...</td>\n",
       "      <td>...</td>\n",
       "      <td>...</td>\n",
       "      <td>...</td>\n",
       "      <td>...</td>\n",
       "      <td>...</td>\n",
       "      <td>...</td>\n",
       "      <td>...</td>\n",
       "      <td>...</td>\n",
       "      <td>...</td>\n",
       "      <td>...</td>\n",
       "      <td>...</td>\n",
       "    </tr>\n",
       "    <tr>\n",
       "      <th>111294</th>\n",
       "      <td>2013</td>\n",
       "      <td>12</td>\n",
       "      <td>31</td>\n",
       "      <td>NaN</td>\n",
       "      <td>600</td>\n",
       "      <td>NaN</td>\n",
       "      <td>NaN</td>\n",
       "      <td>735</td>\n",
       "      <td>NaN</td>\n",
       "      <td>UA</td>\n",
       "      <td>...</td>\n",
       "      <td>ORD</td>\n",
       "      <td>NaN</td>\n",
       "      <td>719</td>\n",
       "      <td>6</td>\n",
       "      <td>0</td>\n",
       "      <td>31-12-2013 06:00</td>\n",
       "      <td>2013-12-31</td>\n",
       "      <td>364</td>\n",
       "      <td>Tuesday</td>\n",
       "      <td>December</td>\n",
       "    </tr>\n",
       "    <tr>\n",
       "      <th>111295</th>\n",
       "      <td>2013</td>\n",
       "      <td>12</td>\n",
       "      <td>31</td>\n",
       "      <td>NaN</td>\n",
       "      <td>830</td>\n",
       "      <td>NaN</td>\n",
       "      <td>NaN</td>\n",
       "      <td>1154</td>\n",
       "      <td>NaN</td>\n",
       "      <td>UA</td>\n",
       "      <td>...</td>\n",
       "      <td>LAX</td>\n",
       "      <td>NaN</td>\n",
       "      <td>2475</td>\n",
       "      <td>8</td>\n",
       "      <td>30</td>\n",
       "      <td>31-12-2013 08:00</td>\n",
       "      <td>2013-12-31</td>\n",
       "      <td>364</td>\n",
       "      <td>Tuesday</td>\n",
       "      <td>December</td>\n",
       "    </tr>\n",
       "  </tbody>\n",
       "</table>\n",
       "<p>9516 rows × 23 columns</p>\n",
       "</div>"
      ],
      "text/plain": [
       "        year  month  day  dep_time  sched_dep_time  dep_delay  arr_time  \\\n",
       "101780  2013     12   21       2.0            2359        3.0     445.0   \n",
       "101781  2013     12   21      29.0            2040      229.0     138.0   \n",
       "...      ...    ...  ...       ...             ...        ...       ...   \n",
       "111294  2013     12   31       NaN             600        NaN       NaN   \n",
       "111295  2013     12   31       NaN             830        NaN       NaN   \n",
       "\n",
       "        sched_arr_time  arr_delay carrier  ...  dest air_time distance hour  \\\n",
       "101780             445        0.0      B6  ...   PSE    206.0     1617   23   \n",
       "101781            2220      198.0      WN  ...   MDW    117.0      725   20   \n",
       "...                ...        ...     ...  ...   ...      ...      ...  ...   \n",
       "111294             735        NaN      UA  ...   ORD      NaN      719    6   \n",
       "111295            1154        NaN      UA  ...   LAX      NaN     2475    8   \n",
       "\n",
       "        minute         time_hour       date  day_index DayOfWeek     Month  \n",
       "101780      59  21-12-2013 23:00 2013-12-21        354  Saturday  December  \n",
       "101781      40  21-12-2013 20:00 2013-12-21        354  Saturday  December  \n",
       "...        ...               ...        ...        ...       ...       ...  \n",
       "111294       0  31-12-2013 06:00 2013-12-31        364   Tuesday  December  \n",
       "111295      30  31-12-2013 08:00 2013-12-31        364   Tuesday  December  \n",
       "\n",
       "[9516 rows x 23 columns]"
      ]
     },
     "execution_count": 4,
     "metadata": {},
     "output_type": "execute_result"
    }
   ],
   "source": [
    "df_daily"
   ]
  },
  {
   "cell_type": "markdown",
   "metadata": {},
   "source": [
    "## Bug Detection\n",
    "\n",
    "Now we want to find any bugs in any of our daily sets of data that we feed to our model.\n",
    "Note that we are performing binary encoding on the categorical columns (carrier, origin, and dest) so that we can pass the data to the variational estimation function directly. We are doing this for performance reasons vs. the hybrid estimation, and to strike a balance between plain index encoding and one-hot encoding."
   ]
  },
  {
   "cell_type": "code",
   "execution_count": 5,
   "metadata": {},
   "outputs": [
    {
     "name": "stderr",
     "output_type": "stream",
     "text": [
      "WARNING:absl:No GPU/TPU found, falling back to CPU. (Set TF_CPP_MIN_LOG_LEVEL=0 and rerun for more info.)\n"
     ]
    },
    {
     "data": {
      "application/vnd.jupyter.widget-view+json": {
       "model_id": "213ef1a64a704ce493058f8d27ba3ebb",
       "version_major": 2,
       "version_minor": 0
      },
      "text/plain": [
       "0it [00:00, ?it/s]"
      ]
     },
     "metadata": {},
     "output_type": "display_data"
    }
   ],
   "source": [
    "import category_encoders as ce\n",
    "from mvtk.supervisor.utils import compute_divergence_crosstabs\n",
    "from mvtk.supervisor.divergence import calc_tv_knn\n",
    "\n",
    "columns = ['dep_time', 'sched_dep_time', 'dep_delay', 'arr_time', 'sched_arr_time', 'arr_delay', 'air_time', 'distance', 'hour', 'minute', 'carrier', 'origin', 'dest']\n",
    "\n",
    "encoder = ce.BinaryEncoder(cols=['carrier', 'origin', 'dest'])\n",
    "encoder.fit(df_daily[columns + ['day']])\n",
    "df_daily_encoded = encoder.transform(df_daily[columns + ['day']].fillna(0))\n",
    "\n",
    "f = lambda x, y: calc_tv_knn(x, y, k = 26)\n",
    "result = compute_divergence_crosstabs(df_daily_encoded, datecol='day', divergence=f)"
   ]
  },
  {
   "cell_type": "code",
   "execution_count": 6,
   "metadata": {},
   "outputs": [
    {
     "data": {
      "image/png": "[encoded data removed]",
      "text/plain": [
       "<Figure size 432x288 with 2 Axes>"
      ]
     },
     "metadata": {
      "needs_background": "light"
     },
     "output_type": "display_data"
    }
   ],
   "source": [
    "import matplotlib.pyplot as plt\n",
    "import seaborn as sns\n",
    "\n",
    "sns.heatmap(result, cmap='coolwarm', linewidths=0.30, annot=True)\n",
    "plt.show()"
   ]
  },
  {
   "cell_type": "markdown",
   "metadata": {},
   "source": [
    "As you can see from the heatmap above, although there are some divergences between the days, there is nothing that is too alarming.\n",
    "\n",
    "Let's now update our data set to contain a \"bug\" in the \"sched_dep_time\" feature. For day 30, all of the values of that feature are null (which we are then translating to 0)."
   ]
  },
  {
   "cell_type": "code",
   "execution_count": 7,
   "metadata": {},
   "outputs": [],
   "source": [
    "df_daily.loc[df_daily['day'] == 30, ['sched_dep_time']] = None"
   ]
  },
  {
   "cell_type": "markdown",
   "metadata": {},
   "source": [
    "Below is the percentage of scheduled departure times that are empty per day in our updated daily data set"
   ]
  },
  {
   "cell_type": "code",
   "execution_count": 8,
   "metadata": {},
   "outputs": [
    {
     "name": "stdout",
     "output_type": "stream",
     "text": [
      "Day 21: 0%\n",
      "Day 22: 0%\n",
      "Day 23: 0%\n",
      "Day 24: 0%\n",
      "Day 25: 0%\n",
      "Day 26: 0%\n",
      "Day 27: 0%\n",
      "Day 28: 0%\n",
      "Day 29: 0%\n",
      "Day 30: 100%\n",
      "Day 31: 0%\n"
     ]
    }
   ],
   "source": [
    "day = 21\n",
    "for df_day in df_daily.groupby('day'):\n",
    "    day_pct = df_day[1]['sched_dep_time'].value_counts(normalize=True, dropna=False) * 100\n",
    "    pct = day_pct.loc[day_pct.index.isnull()].values\n",
    "    if (len(pct) == 0):\n",
    "        pct = 0\n",
    "    else:\n",
    "        pct = pct[0]\n",
    "    print('Day ' + str(day) + ': ' + str(round(pct)) + '%')\n",
    "    day += 1"
   ]
  },
  {
   "cell_type": "code",
   "execution_count": 9,
   "metadata": {},
   "outputs": [
    {
     "data": {
      "application/vnd.jupyter.widget-view+json": {
       "model_id": "4a46f204fb314ec99d6c631e5ec8195a",
       "version_major": 2,
       "version_minor": 0
      },
      "text/plain": [
       "0it [00:00, ?it/s]"
      ]
     },
     "metadata": {},
     "output_type": "display_data"
    }
   ],
   "source": [
    "from mvtk.supervisor.divergence import calc_tv_knn\n",
    "\n",
    "encoder = ce.BinaryEncoder(cols=['carrier', 'origin', 'dest'])\n",
    "encoder.fit(df_daily[columns + ['day']])\n",
    "df_daily_encoded = encoder.transform(df_daily[columns + ['day']].fillna(0))\n",
    "\n",
    "f = lambda x, y: calc_tv_knn(x, y, k = 26)\n",
    "result = compute_divergence_crosstabs(df_daily_encoded, datecol='day', divergence=f)"
   ]
  },
  {
   "cell_type": "code",
   "execution_count": 10,
   "metadata": {},
   "outputs": [
    {
     "data": {
      "image/png": "[encoded data removed]",
      "text/plain": [
       "<Figure size 432x288 with 2 Axes>"
      ]
     },
     "metadata": {
      "needs_background": "light"
     },
     "output_type": "display_data"
    }
   ],
   "source": [
    "import matplotlib.pyplot as plt\n",
    "import seaborn as sns\n",
    "\n",
    "sns.heatmap(result, cmap='coolwarm', linewidths=0.30, annot=True)\n",
    "plt.show()"
   ]
  },
  {
   "cell_type": "markdown",
   "metadata": {},
   "source": [
    "As we can see above, our heatmap now clearly shows that we have a \"bug\" in our day 30 dataset."
   ]
  }
 ],
 "metadata": {
  "kernelspec": {
   "display_name": "Python 3 (ipykernel)",
   "language": "python",
   "name": "python3"
  },
  "language_info": {
   "codemirror_mode": {
    "name": "ipython",
    "version": 3
   },
   "file_extension": ".py",
   "mimetype": "text/x-python",
   "name": "python",
   "nbconvert_exporter": "python",
   "pygments_lexer": "ipython3",
   "version": "3.10.2"
  }
 },
 "nbformat": 4,
 "nbformat_minor": 2
}
