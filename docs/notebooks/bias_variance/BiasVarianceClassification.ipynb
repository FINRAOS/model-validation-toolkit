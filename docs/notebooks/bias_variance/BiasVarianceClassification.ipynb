{
 "cells": [
  {
   "cell_type": "markdown",
   "id": "0213c537-ffda-464a-a696-16bb8c11212c",
   "metadata": {},
   "source": [
    "# Bias-Variance Decomposition for Classification Problems\n",
    "\n",
    "In this example, we will see how to calculate the bias-variance decomposition for classification problems."
   ]
  },
  {
   "cell_type": "code",
   "execution_count": 1,
   "id": "84f10ff2",
   "metadata": {},
   "outputs": [
    {
     "name": "stderr",
     "output_type": "stream",
     "text": [
      "WARNING: All log messages before absl::InitializeLog() is called are written to STDERR\n",
      "I0000 00:00:1701450732.304993       1 tfrt_cpu_pjrt_client.cc:349] TfrtCpuClient created.\n"
     ]
    }
   ],
   "source": [
    "import pandas as pd\n",
    "\n",
    "from sklearn.datasets import load_iris\n",
    "from sklearn.model_selection import train_test_split\n",
    "\n",
    "from mvtk.bias_variance import bias_variance_compute, bias_variance_0_1_loss\n",
    "from mvtk.bias_variance.estimators import EstimatorWrapper"
   ]
  },
  {
   "cell_type": "code",
   "execution_count": 2,
   "id": "9184a4c1-f608-4983-b6c0-31a817f20a19",
   "metadata": {},
   "outputs": [],
   "source": [
    "random_state=123"
   ]
  },
  {
   "cell_type": "markdown",
   "id": "1b1f56c8",
   "metadata": {},
   "source": [
    "## Load the example dataset"
   ]
  },
  {
   "cell_type": "code",
   "execution_count": 3,
   "id": "1b6763e6",
   "metadata": {},
   "outputs": [],
   "source": [
    "iris = load_iris()\n",
    "X = pd.DataFrame(iris.data, columns=iris.feature_names)\n",
    "y = iris.target\n",
    "X_train, X_test, y_train, y_test = train_test_split(X, y, test_size=0.3, random_state=random_state)"
   ]
  },
  {
   "cell_type": "markdown",
   "id": "73a13343",
   "metadata": {},
   "source": [
    "## Scikit-Learn Example"
   ]
  },
  {
   "cell_type": "code",
   "execution_count": 4,
   "id": "a838e1d8",
   "metadata": {},
   "outputs": [],
   "source": [
    "from sklearn.tree import DecisionTreeClassifier\n",
    "\n",
    "from mvtk.bias_variance.estimators import SciKitLearnEstimatorWrapper"
   ]
  },
  {
   "cell_type": "code",
   "execution_count": 5,
   "id": "5b8c734c",
   "metadata": {},
   "outputs": [],
   "source": [
    "model_scikit = DecisionTreeClassifier(random_state=random_state)"
   ]
  },
  {
   "cell_type": "markdown",
   "id": "8b5f6354",
   "metadata": {},
   "source": [
    "## Need to instantiate a wrapper class for usage by the bias variance calculation"
   ]
  },
  {
   "cell_type": "code",
   "execution_count": 6,
   "id": "642bc9e3",
   "metadata": {},
   "outputs": [],
   "source": [
    "model_scikit_wrapped = SciKitLearnEstimatorWrapper(model_scikit)"
   ]
  },
  {
   "cell_type": "code",
   "execution_count": 7,
   "id": "f5ed38bf",
   "metadata": {},
   "outputs": [
    {
     "name": "stdout",
     "output_type": "stream",
     "text": [
      "average loss: 0.06066667\n",
      "average bias: 0.04444444\n",
      "average variance: 0.03311111\n",
      "net variance: 0.01622222\n"
     ]
    }
   ],
   "source": [
    "# Use wrapped estimator\n",
    "avg_loss, avg_bias, avg_var, net_var = bias_variance_compute(model_scikit_wrapped, X_train, y_train, X_test, y_test, iterations=200, \n",
    "                                                             random_state=random_state, decomp_fn=bias_variance_0_1_loss)\n",
    "\n",
    "print(f'average loss: {avg_loss:10.8f}')\n",
    "print(f'average bias: {avg_bias:10.8f}')\n",
    "print(f'average variance: {avg_var:10.8f}')\n",
    "print(f'net variance: {net_var:10.8f}')"
   ]
  },
  {
   "cell_type": "markdown",
   "id": "87fb7085",
   "metadata": {},
   "source": [
    "## PyTorch Example"
   ]
  },
  {
   "cell_type": "code",
   "execution_count": 8,
   "id": "c8d7471f",
   "metadata": {},
   "outputs": [],
   "source": [
    "import torch\n",
    "import torch.nn as nn\n",
    "\n",
    "from mvtk.bias_variance.estimators import PyTorchEstimatorWrapper"
   ]
  },
  {
   "cell_type": "code",
   "execution_count": 9,
   "id": "d28a52e5",
   "metadata": {},
   "outputs": [],
   "source": [
    "X_train_torch = torch.FloatTensor(X_train.values)\n",
    "X_test_torch = torch.FloatTensor(X_test.values)\n",
    "y_train_torch = torch.LongTensor(y_train)\n",
    "y_test_torch = torch.LongTensor(y_test)"
   ]
  },
  {
   "cell_type": "code",
   "execution_count": 10,
   "id": "a99e7197",
   "metadata": {},
   "outputs": [],
   "source": [
    "class ModelPyTorch(nn.Module):\n",
    "    def __init__(self):\n",
    "        super().__init__()\n",
    "        self.linear1 = nn.Linear(4, 25)\n",
    "        self.linear2 = nn.Linear(25, 3)\n",
    "\n",
    "    def forward(self, x):\n",
    "        x = self.linear1(x)\n",
    "        x = self.linear2(x)\n",
    "        return x"
   ]
  },
  {
   "cell_type": "code",
   "execution_count": 11,
   "id": "1b3c2219",
   "metadata": {},
   "outputs": [],
   "source": [
    "model_pytorch = ModelPyTorch()\n",
    "optimizer = torch.optim.Adam(model_pytorch.parameters(), lr=0.01)\n",
    "loss_fn = nn.CrossEntropyLoss()"
   ]
  },
  {
   "cell_type": "markdown",
   "id": "e84d8252",
   "metadata": {},
   "source": [
    "## Need to instantiate a wrapper class for usage by the bias variance calculation"
   ]
  },
  {
   "cell_type": "code",
   "execution_count": 12,
   "id": "de3dbd51",
   "metadata": {},
   "outputs": [],
   "source": [
    "def optimizer_generator(x):\n",
    "    return torch.optim.Adam(x.parameters(), lr=0.01)"
   ]
  },
  {
   "cell_type": "code",
   "execution_count": 13,
   "id": "b344f7f5",
   "metadata": {},
   "outputs": [],
   "source": [
    "model_pytorch_wrapped = PyTorchEstimatorWrapper(model_pytorch, optimizer_generator, loss_fn)"
   ]
  },
  {
   "cell_type": "code",
   "execution_count": 14,
   "id": "b1920755",
   "metadata": {},
   "outputs": [
    {
     "name": "stdout",
     "output_type": "stream",
     "text": [
      "average loss: 0.19355556\n",
      "average bias: 0.02222222\n",
      "average variance: 0.19177778\n",
      "net variance: 0.17133333\n"
     ]
    }
   ],
   "source": [
    "# Use wrapped estimator\n",
    "avg_loss, avg_bias, avg_var, net_var = bias_variance_compute(model_pytorch_wrapped, X_train_torch, y_train_torch, X_test_torch, y_test, \n",
    "                                                             iterations=200, random_state=random_state, decomp_fn=bias_variance_0_1_loss, \n",
    "                                                             fit_kwargs={'epochs': 25})\n",
    "\n",
    "print(f'average loss: {avg_loss:10.8f}')\n",
    "print(f'average bias: {avg_bias:10.8f}')\n",
    "print(f'average variance: {avg_var:10.8f}')\n",
    "print(f'net variance: {net_var:10.8f}')"
   ]
  },
  {
   "cell_type": "markdown",
   "id": "bc7d036a",
   "metadata": {},
   "source": [
    "## Same idea with TensorFlow models"
   ]
  },
  {
   "cell_type": "code",
   "execution_count": 15,
   "id": "3f210cef",
   "metadata": {},
   "outputs": [],
   "source": [
    "import tensorflow as tf\n",
    "from keras import initializers\n",
    "\n",
    "from mvtk.bias_variance.estimators import TensorFlowEstimatorWrapper"
   ]
  },
  {
   "cell_type": "code",
   "execution_count": 16,
   "id": "8352fe98",
   "metadata": {},
   "outputs": [],
   "source": [
    "model_tensorflow = tf.keras.Sequential([\n",
    "    tf.keras.layers.Dense(10, activation='relu', kernel_initializer=initializers.glorot_uniform(seed=0)),\n",
    "    tf.keras.layers.Dense(10, activation='relu', kernel_initializer=initializers.glorot_uniform(seed=0)),\n",
    "    tf.keras.layers.Dense(3, activation='softmax', kernel_initializer=initializers.glorot_uniform(seed=0))\n",
    "])"
   ]
  },
  {
   "cell_type": "code",
   "execution_count": 17,
   "id": "d6b94ef3",
   "metadata": {},
   "outputs": [],
   "source": [
    "model_tensorflow.compile(optimizer='rmsprop',\n",
    "             loss='sparse_categorical_crossentropy',\n",
    "             metrics=['accuracy'])"
   ]
  },
  {
   "cell_type": "markdown",
   "id": "bdef99bd",
   "metadata": {},
   "source": [
    "## Need to instantiate a wrapper class for usage by the bias variance calculation"
   ]
  },
  {
   "cell_type": "code",
   "execution_count": 18,
   "id": "867bf004",
   "metadata": {},
   "outputs": [],
   "source": [
    "model_tensorflow_wrapped = TensorFlowEstimatorWrapper(model_tensorflow)"
   ]
  },
  {
   "cell_type": "code",
   "execution_count": 19,
   "id": "b2a01764",
   "metadata": {},
   "outputs": [
    {
     "name": "stdout",
     "output_type": "stream",
     "text": [
      "average loss: 0.18800000\n",
      "average bias: 0.17777778\n",
      "average variance: 0.08988889\n",
      "net variance: 0.01022222\n"
     ]
    }
   ],
   "source": [
    "# Use wrapped estimator\n",
    "avg_loss, avg_bias, avg_var, net_var = bias_variance_compute(model_tensorflow_wrapped, X_train, y_train, X_test, y_test, iterations=200, \n",
    "                                                             random_state=random_state, decomp_fn=bias_variance_0_1_loss, \n",
    "                                                             fit_kwargs={'epochs': 25, 'batch_size': 50, 'verbose': False}, \n",
    "                                                             predict_kwargs={'verbose': False})\n",
    "\n",
    "print(f'average loss: {avg_loss:10.8f}')\n",
    "print(f'average bias: {avg_bias:10.8f}')\n",
    "print(f'average variance: {avg_var:10.8f}')\n",
    "print(f'net variance: {net_var:10.8f}')"
   ]
  },
  {
   "cell_type": "markdown",
   "id": "a32e8cee",
   "metadata": {},
   "source": [
    "## We can run the same bias variance calculation in parallel for faster execution (in general for larger datasets and more intensive computations)"
   ]
  },
  {
   "cell_type": "code",
   "execution_count": 21,
   "id": "5900e939",
   "metadata": {},
   "outputs": [
    {
     "name": "stdout",
     "output_type": "stream",
     "text": [
      "average loss: 0.18133333\n",
      "average bias: 0.11111111\n",
      "average variance: 0.13000000\n",
      "net variance: 0.07022222\n"
     ]
    }
   ],
   "source": [
    "from mvtk.bias_variance import bias_variance_compute_parallel\n",
    "\n",
    "avg_loss, avg_bias, avg_var, net_var = bias_variance_compute_parallel(model_tensorflow_wrapped, X_train, y_train, X_test, y_test, \n",
    "                                                                      iterations=200, random_state=random_state, \n",
    "                                                                      decomp_fn=bias_variance_0_1_loss, \n",
    "                                                                      fit_kwargs={'epochs': 25, 'batch_size': 50, 'verbose': False}, \n",
    "                                                                      predict_kwargs={'verbose': False})\n",
    "\n",
    "print(f'average loss: {avg_loss:10.8f}')\n",
    "print(f'average bias: {avg_bias:10.8f}')\n",
    "print(f'average variance: {avg_var:10.8f}')\n",
    "print(f'net variance: {net_var:10.8f}')"
   ]
  },
  {
   "cell_type": "code",
   "execution_count": null,
   "id": "d0a2b4d4",
   "metadata": {},
   "outputs": [],
   "source": []
  }
 ],
 "metadata": {
  "kernelspec": {
   "display_name": "Python 3 (ipykernel)",
   "language": "python",
   "name": "python3"
  },
  "language_info": {
   "codemirror_mode": {
    "name": "ipython",
    "version": 3
   },
   "file_extension": ".py",
   "mimetype": "text/x-python",
   "name": "python",
   "nbconvert_exporter": "python",
   "pygments_lexer": "ipython3",
   "version": "3.10.13"
  }
 },
 "nbformat": 4,
 "nbformat_minor": 5
}
