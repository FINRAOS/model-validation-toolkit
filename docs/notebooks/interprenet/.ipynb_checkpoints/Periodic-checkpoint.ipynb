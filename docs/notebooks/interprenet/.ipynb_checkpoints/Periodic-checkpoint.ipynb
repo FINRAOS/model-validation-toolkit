{
 "cells": [
  {
   "cell_type": "code",
   "execution_count": 160,
   "id": "699ea1b7",
   "metadata": {},
   "outputs": [],
   "source": [
    "import jax\n",
    "from sklearn.model_selection import train_test_split\n",
    "\n",
    "f = jax.numpy.cos\n",
    "n = 1000\n",
    "X_train = jax.numpy.linspace(-n * jax.numpy.pi, 0, 100 * n).reshape(-1, 1)\n",
    "y_train = f(X_train)\n",
    "\n",
    "\n",
    "X_test = jax.numpy.linspace(0, n * jax.numpy.pi, 100 * n).reshape(-1, 1)\n",
    "y_test = f(X_test)"
   ]
  },
  {
   "cell_type": "code",
   "execution_count": 161,
   "id": "f2d7f659",
   "metadata": {},
   "outputs": [],
   "source": [
    "import jax\n",
    "\n",
    "from mvtk import interprenet\n",
    "\n",
    "init_params, model = interprenet.constrained_model(\n",
    "    (frozenset([interprenet.monotonic_constraint]),),\n",
    "    get_layers=lambda n: [n + 1],\n",
    "    preprocess=interprenet.identity,\n",
    "    postprocess=interprenet.identity)\n",
    "\n",
    "init_params = ((jax.numpy.asarray([0.]), jax.numpy.asarray([0.]),),\n",
    "               init_params)\n",
    "def scaled_model(params, x):\n",
    "    (m, b), model_params = params\n",
    "    u = jax.numpy.sin(x * jax.numpy.exp(m) + jax.numpy.arctan(b))\n",
    "    return model(model_params, u)"
   ]
  },
  {
   "cell_type": "code",
   "execution_count": null,
   "id": "f7a0800c",
   "metadata": {},
   "outputs": [],
   "source": [
    "def loss(y, y_pred):\n",
    "    return ((y - y_pred) ** 2).mean()\n",
    "\n",
    "trained_params = interprenet.train((X_train, y_train),\n",
    "                                   (X_test, y_test),\n",
    "                                   (init_params, scaled_model),\n",
    "                                   metric=lambda y, y_pred: loss(y, y_pred),\n",
    "                                   step_size=0.01,\n",
    "                                   mini_batch_size=32,\n",
    "                                   loss_fn=loss,\n",
    "                                   num_epochs=128)"
   ]
  },
  {
   "cell_type": "code",
   "execution_count": null,
   "id": "1e7dad5d",
   "metadata": {},
   "outputs": [],
   "source": [
    "loss(y_test, y_test)"
   ]
  },
  {
   "cell_type": "code",
   "execution_count": null,
   "id": "ebae2803",
   "metadata": {},
   "outputs": [],
   "source": [
    "trained_model = lambda X: scaled_model(trained_params, X)\n",
    "y_pred = trained_model(X_test)\n",
    "loss(y_test, y_pred)"
   ]
  },
  {
   "cell_type": "code",
   "execution_count": null,
   "id": "5d4554e7",
   "metadata": {},
   "outputs": [],
   "source": [
    "import matplotlib\n",
    "import matplotlib.pyplot as pylab\n",
    "\n",
    "q = 1000\n",
    "pylab.plot(X_test[:q], y_test[:q])\n",
    "pylab.plot(X_test[:q], y_pred[:q])\n",
    "\n",
    "pylab.show()"
   ]
  },
  {
   "cell_type": "code",
   "execution_count": null,
   "id": "b17de2c6",
   "metadata": {},
   "outputs": [],
   "source": []
  }
 ],
 "metadata": {
  "kernelspec": {
   "display_name": "Python 3",
   "language": "python",
   "name": "python3"
  },
  "language_info": {
   "codemirror_mode": {
    "name": "ipython",
    "version": 3
   },
   "file_extension": ".py",
   "mimetype": "text/x-python",
   "name": "python",
   "nbconvert_exporter": "python",
   "pygments_lexer": "ipython3",
   "version": "3.8.8"
  }
 },
 "nbformat": 4,
 "nbformat_minor": 5
}
